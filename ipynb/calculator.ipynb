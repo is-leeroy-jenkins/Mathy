{
 "cells": [
  {
   "metadata": {},
   "cell_type": "markdown",
   "source": "## Load Dependencies",
   "id": "ded1421530eccc49"
  },
  {
   "cell_type": "code",
   "id": "initial_id",
   "metadata": {
    "collapsed": true,
    "ExecuteTime": {
     "end_time": "2025-07-29T16:44:32.240612Z",
     "start_time": "2025-07-29T16:44:27.653067Z"
    }
   },
   "source": [
    "from data import *\n",
    "import data as db\n",
    "import pandas as pd\n",
    "import warnings\n",
    "from importlib import reload"
   ],
   "outputs": [],
   "execution_count": 1
  },
  {
   "metadata": {
    "ExecuteTime": {
     "end_time": "2025-07-29T16:44:33.068347Z",
     "start_time": "2025-07-29T16:44:33.045533Z"
    }
   },
   "cell_type": "code",
   "source": [
    "reload( db )\n",
    "hdr = '\\r\\n' + '-' * 120 + '\\r\\n'\n",
    "nwln = '\\r\\n'\n",
    "warnings.filterwarnings( 'ignore' )"
   ],
   "id": "16c47fb77eed71b5",
   "outputs": [],
   "execution_count": 2
  },
  {
   "metadata": {},
   "cell_type": "code",
   "source": [
    "# Load Data\n",
    "file_path_balances = r'C:\\Users\\terry\\source\\repos\\Mathy\\db\\Account Balances.xlsx'\n",
    "df_balances = pd.read_excel( file_path_balances, sheet_name='Data' )\n",
    "numeric_columns = [ 'CarryoverAuthority', 'CarryoverAdjustments', 'AnnualAppropriations',\n",
    "                    'BorrowingAuthority', 'ContractAuthority', 'OffsettingReceipts',\n",
    "                    'Obligations', 'Recoveries', 'UnobligatedBalance', 'Outlays', 'TotalResources' ]\n",
    "column_subset = [ 'AnnualAppropriations', 'CarryoverAuthority', 'UnobligatedBalance',\n",
    "                  'Obligations', 'Outlays' ]\n",
    "\n",
    "# Filter Data\n",
    "all = [ 'AccountBalancesId', 'AgencyIdentifier', 'AgencyName', 'BeginningPeriodOfAvailability',\n",
    "        'EndingPeriodOfAvailability', 'Availability', 'MainAccountCode', 'SubAccountCode',\n",
    "        'TreasuryAccountSymbol', 'TreasuryAccountName', 'BudgetFunction', 'BudgetSubFunction',\n",
    "        'FederalAccountSymbol', 'FederalAccountName', 'LastModified',\n",
    "        'SubmissionPeriod' ] + numeric_columns\n",
    "subset = [ 'AgencyName', 'BudgetFunction' ] + column_subset\n",
    "\n",
    "cols_to_drop = [\n",
    "\t\t'AccountBalancesId', 'TreasuryAccountName', 'TreasuryAccountSymbol', 'LastModified',\n",
    "\t\t'SubmissionPeriod', 'Availability', 'LastModified', 'SubmissionPeriod', 'SubAccountCode',\n",
    "\t\t'BudgetSubFunction', 'FederalAccountSymbol', 'FederalAccountName', ]\n",
    "\n",
    "# Define complete dataset\n",
    "df_dataset = df_balances[ all ].fillna( 0 )\n",
    "df_subset = df_balances[ subset ].fillna( 0 )\n",
    "\n",
    "# Clean and preprocess\n",
    "df_dataset.drop( columns=cols_to_drop, inplace=True, errors='ignore' )\n",
    "df_data = df_dataset.copy( )\n",
    "\n",
    "print( hdr )\n",
    "print( 'Balances Dataset' )\n",
    "print( nwln )\n",
    "\n",
    "# Descriptive Statistics & Probability Distributions\n",
    "df_descriptive = df_balances[ numeric_columns ].describe( percentiles=[ .05, .1, .25, .5, .75, .8, .9, .95, ] )\n",
    "\n",
    "df_data"
   ],
   "id": "e3f3ada125ace3b3",
   "outputs": [],
   "execution_count": null
  },
  {
   "metadata": {
    "ExecuteTime": {
     "end_time": "2025-07-29T16:45:05.499524Z",
     "start_time": "2025-07-29T16:45:04.777646Z"
    }
   },
   "cell_type": "code",
   "source": "ds = Dataset( df = df_data, target = 'AgencyName' )",
   "id": "f7db29651ed13e66",
   "outputs": [],
   "execution_count": 4
  },
  {
   "metadata": {},
   "cell_type": "code",
   "source": "ds.average",
   "id": "f0d23c5b61031a69",
   "outputs": [],
   "execution_count": null
  },
  {
   "metadata": {},
   "cell_type": "code",
   "source": "ds.show_histogram( )",
   "id": "8eeacda51961d263",
   "outputs": [],
   "execution_count": null
  },
  {
   "metadata": {},
   "cell_type": "code",
   "source": [
    "ave = ds.calculate_average( df=df_subset )\n",
    "ave"
   ],
   "id": "fb73eeda6af857f3",
   "outputs": [],
   "execution_count": null
  },
  {
   "metadata": {
    "ExecuteTime": {
     "end_time": "2025-07-29T16:08:31.134413Z",
     "start_time": "2025-07-29T16:08:06.124404Z"
    }
   },
   "cell_type": "code",
   "source": [
    "\n",
    "\n"
   ],
   "id": "2f8502f4781912f0",
   "outputs": [],
   "execution_count": 153
  }
 ],
 "metadata": {
  "kernelspec": {
   "display_name": "Python 3",
   "language": "python",
   "name": "python3"
  },
  "language_info": {
   "codemirror_mode": {
    "name": "ipython",
    "version": 2
   },
   "file_extension": ".py",
   "mimetype": "text/x-python",
   "name": "python",
   "nbconvert_exporter": "python",
   "pygments_lexer": "ipython2",
   "version": "2.7.6"
  }
 },
 "nbformat": 4,
 "nbformat_minor": 5
}
