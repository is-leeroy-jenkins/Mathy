{
 "cells": [
  {
   "metadata": {},
   "cell_type": "markdown",
   "source": "## Load Dependencies",
   "id": "ded1421530eccc49"
  },
  {
   "cell_type": "code",
   "id": "initial_id",
   "metadata": {
    "collapsed": true,
    "ExecuteTime": {
     "end_time": "2025-07-26T23:44:11.861301Z",
     "start_time": "2025-07-26T23:44:11.851046Z"
    }
   },
   "source": [
    "from data import *\n",
    "import pandas as pd\n",
    "import warnings"
   ],
   "outputs": [],
   "execution_count": 5
  },
  {
   "metadata": {
    "ExecuteTime": {
     "end_time": "2025-07-26T23:44:13.402266Z",
     "start_time": "2025-07-26T23:44:13.382731Z"
    }
   },
   "cell_type": "code",
   "source": [
    "hdr = '\\r\\n' + '-' * 120 + '\\r\\n'\n",
    "nwln = '\\r\\n'\n",
    "warnings.filterwarnings( 'ignore' )"
   ],
   "id": "16c47fb77eed71b5",
   "outputs": [],
   "execution_count": 6
  },
  {
   "metadata": {},
   "cell_type": "code",
   "outputs": [],
   "execution_count": null,
   "source": [
    "# Load Data\n",
    "file_path_balances = r'db\\Account Balances.xlsx'\n",
    "df_balances = pd.read_excel( file_path_balances, sheet_name = 'Data' )\n",
    "numeric_columns = [ 'CarryoverAuthority', 'CarryoverAdjustments', 'AnnualAppropriations',\n",
    "                    'BorrowingAuthority', 'ContractAuthority', 'OffsettingReceipts',\n",
    "                    'Obligations', 'Recoveries', 'UnobligatedBalance', 'Outlays', 'TotalResources' ]\n",
    "column_subset = [ 'AnnualAppropriations', 'CarryoverAuthority', 'UnobligatedBalance',\n",
    "                  'Obligations', 'Outlays' ]\n",
    "\n",
    "# Filter Data\n",
    "all = [ 'AccountBalancesId', 'AgencyIdentifier', 'AgencyName', 'BeginningPeriodOfAvailability',\n",
    "        'EndingPeriodOfAvailablity', 'Availability', 'MainAccountCode', 'SubAccountCode',\n",
    "        'TreasuryAccountSymbol', 'TreasuryAccountName', 'BudgetFunction', 'BudgetSubFunction',\n",
    "        'FederalAccountSymbol', 'FederalAccountName', 'LastModified',\n",
    "        'SubmissionPeriod' ] + numeric_columns\n",
    "subset = [ 'AgencyName', 'BudgetFunction' ] + column_subset\n",
    "\n",
    "cols_to_drop = [\n",
    "\t\t'AccountBalancesId', 'TreasuryAccountName', 'TreasuryAccountSymbol', 'LastModified',\n",
    "\t\t'SubmissionPeriod',\n",
    "\t\t'Availability', 'LastModified', 'SubmissionPeriod', 'SubAccountCode', 'BudgetFunction',\n",
    "\t\t'BudgetSubFunction',\n",
    "\t\t'FederalAccountSymbol', 'FederalAccountName',\n",
    "]\n",
    "\n",
    "# Define complete dataset\n",
    "df_dataset = df_balances[ all ].fillna( 0 )\n",
    "df_subset = df_balances[ subset ].fillna( 0 )\n",
    "\n",
    "# Clean and preprocess\n",
    "df_dataset.drop( columns = cols_to_drop, inplace = True, errors = 'ignore' )\n",
    "df_clean = df_dataset.copy( )\n",
    "\n",
    "# Convert fiscal year columns to numeric\n",
    "df_clean.iloc[ :, 5: ] = df_dataset.iloc[ :, 5: ].apply( pd.to_numeric, errors = 'coerce' )\n",
    "df_data = df_clean.copy( )\n",
    "print( hdr )\n",
    "print( 'Balances Dataset' )\n",
    "print( nwln )\n",
    "\n",
    "# Descriptive Statistics & Probability Distributions\n",
    "df_descriptive = df_data[ numeric_columns ].describe(\n",
    "\tpercentiles = [ .05, .1, .25, .5, .75, .9, .95, ] )\n",
    "\n",
    "df_data"
   ],
   "id": "e3f3ada125ace3b3"
  },
  {
   "metadata": {},
   "cell_type": "code",
   "outputs": [],
   "execution_count": null,
   "source": "corr = ComponentAnalysis( )",
   "id": "f7db29651ed13e66"
  }
 ],
 "metadata": {
  "kernelspec": {
   "display_name": "Python 3",
   "language": "python",
   "name": "python3"
  },
  "language_info": {
   "codemirror_mode": {
    "name": "ipython",
    "version": 2
   },
   "file_extension": ".py",
   "mimetype": "text/x-python",
   "name": "python",
   "nbconvert_exporter": "python",
   "pygments_lexer": "ipython2",
   "version": "2.7.6"
  }
 },
 "nbformat": 4,
 "nbformat_minor": 5
}
